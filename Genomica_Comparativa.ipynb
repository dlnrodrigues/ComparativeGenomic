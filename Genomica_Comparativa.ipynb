{
  "nbformat": 4,
  "nbformat_minor": 0,
  "metadata": {
    "colab": {
      "provenance": [],
      "include_colab_link": true
    },
    "kernelspec": {
      "name": "python3",
      "display_name": "Python 3"
    },
    "language_info": {
      "name": "python"
    }
  },
  "cells": [
    {
      "cell_type": "markdown",
      "metadata": {
        "id": "view-in-github",
        "colab_type": "text"
      },
      "source": [
        "<a href=\"https://colab.research.google.com/github/dlnrodrigues/ComparativeGenomic/blob/main/Genomica_Comparativa.ipynb\" target=\"_parent\"><img src=\"https://colab.research.google.com/assets/colab-badge.svg\" alt=\"Open In Colab\"/></a>"
      ]
    },
    {
      "cell_type": "markdown",
      "source": [
        "#GENÔMICA COMPARATIVA UTILIZANDO O GOOGLE COLAB\n",
        "MSc. Diego Lucas Neres Rodrigues / dlnrodrigues@ufmg.br\n",
        "\n",
        "MSc. Juan Carlos Ariute Oliveira / juanariute@ufmg.br\n",
        "\n",
        "##Linguagens do Colab\n",
        "\n",
        "A plataforma virtual do Colab aceita e trabalha com duas linguagens, IPython e Shell. Todavia, de forma nativa a plataforma prioriza o uso de Python. Para forçar o uso de Shell basta adicionar um sinal de exclamação (!) antes da linha de código."
      ],
      "metadata": {
        "id": "FLRhxAFJPTGH"
      }
    },
    {
      "cell_type": "code",
      "source": [
        "#Python\n",
        "print(\"Este é um comando em python!!!\")"
      ],
      "metadata": {
        "id": "3ibbfNME83TQ"
      },
      "execution_count": null,
      "outputs": []
    },
    {
      "cell_type": "code",
      "source": [
        "#Shell\n",
        "!echo \"Este é um comando em shell!!!\""
      ],
      "metadata": {
        "id": "ZBhIuf228-H5"
      },
      "execution_count": null,
      "outputs": []
    },
    {
      "cell_type": "markdown",
      "source": [
        "##Download de programas e dependências\n",
        "\n",
        "Para as funcionalidades de genômica comparativa apresentadadas nesse notebook, utilizaremos os seguintes programas:\n",
        "\n",
        "PROKKA https://doi.org/10.1093/bioinformatics/btu153\n",
        "\n",
        "pyANI https://doi.org/10.1039/C5AY02550H\n",
        "\n",
        "OrthoFinder https://doi.org/10.1186/s13059-019-1832-y\n",
        "\n",
        "Pan Virulence and resisTance analysis (PanViTa) https://doi.org/10.3389/fbinf.2023.1070406"
      ],
      "metadata": {
        "id": "wykv___a82ck"
      }
    },
    {
      "cell_type": "code",
      "source": [
        "#Tempo de execução aproximado = 52 seg\n",
        "!pip install -q condacolab\n",
        "import condacolab\n",
        "condacolab.install()\n",
        "!conda install -c conda-forge mamba -y"
      ],
      "metadata": {
        "id": "9nCXM3IqTPa_"
      },
      "execution_count": null,
      "outputs": []
    },
    {
      "cell_type": "code",
      "source": [
        "#Tempo de execução aproximado = 7 min\n",
        "!mamba install -c bioconda diamond -y\n",
        "!mamba install -c bioconda prokka -y\n",
        "!mamba install -c bioconda pyani -y\n",
        "!mamba install -c bioconda orthofinder -y\n",
        "!mamba install -c bioconda satsuma2 -y\n",
        "!export SATSUMA2_PATH=usr/local/bin\n",
        "!pip install wget\n",
        "!pip install pandas\n",
        "!pip install seaborn\n",
        "!python -m pip install -U matplotlib\n",
        "!pip install -U ipython\n",
        "!pip install ipykernel\n",
        "!pip install scipy\n",
        "!pip install basemap\n",
        "!git clone https://github.com/dlnrodrigues/panvita.git\n",
        "!chmod 766 ./panvita/panvita.py\n",
        "!./panvita/panvita.py -u\n",
        "#!wget -O Mycoplasmoides_pneumoniae_M129-B7.fasta \"https://www.ebi.ac.uk/ena/browser/api/fasta/GCA_000331085.1?download=true&gzip=false\"\n",
        "!wget --no-check-certificate \"https://docs.google.com/uc?export=download&id=1BhWUbOmusmK7vgmELMI8lb1woCIt-Q2F\" -O \"prokaryotes.csv\""
      ],
      "metadata": {
        "id": "7CMiB3DzuJ8F"
      },
      "execution_count": null,
      "outputs": []
    },
    {
      "cell_type": "markdown",
      "source": [
        "##Obtenção de genomas\n",
        "\n",
        "Arquivos que contem sequências biológicas podem ser obtidos de diferentes formas e em diferentes formatos.\n",
        "É sempre importante se atentar à qual o formato de arquivo para *input* de uma ferramenta, para não cometer o erro de obter o formato errado.\n",
        "\n",
        "Existem algumas ferramentas capazes de automatizar o download e a obtenção de sequências biológicas. No curso de hoje, utilizaremos a ferramenta PanViTa.\n",
        "\n",
        "O arquivo de input para a ferramenta é uma tabela no formato CSV contendo os meta-dados disponíveis publicamente na plataforma NCBI (https://www.ncbi.nlm.nih.gov/genome/browse#!/overview/)."
      ],
      "metadata": {
        "id": "jyP1e2IRoRpL"
      }
    },
    {
      "cell_type": "code",
      "source": [
        "#Tempo de execução aproximado = 1 seg\n",
        "!./panvita/panvita.py -h"
      ],
      "metadata": {
        "id": "SwmW4zG7EwCw"
      },
      "execution_count": null,
      "outputs": []
    },
    {
      "cell_type": "code",
      "source": [
        "#Tempo de execução aproximado = 1 min\n",
        "!./panvita/panvita.py -m prokaryotes.csv\n",
        "!./panvita/panvita.py -g prokaryotes.csv\n",
        "!mkdir fna\n",
        "!mv *.fna fna/."
      ],
      "metadata": {
        "id": "EK1nXrsebqd4"
      },
      "execution_count": null,
      "outputs": []
    },
    {
      "cell_type": "markdown",
      "source": [
        "###Hora de trabalhar - 15 minutos\n",
        "\n",
        "1 - Escolha uma bactéria para chamar de sua. Faça o download da tabela contendo as informações desse microorganismo (máximo 8). Se necessário, edite a tabela para que ao final ela possua no máximo 8 linhagens.\n",
        "\n",
        "2 - Faça o upload da sua tabela para o ambiente Colab utilizando o botão ![image.png](data:image/png;base64,iVBORw0KGgoAAAANSUhEUgAAACgAAAAeCAYAAABe3VzdAAABM0lEQVRYhe2XMY6DMBBFf3a34wC4oKSHkp7Cd+EA7pC2NQ0noccFJQfwAejxAaiTylESkWTt8bKsxK+Q8MDTzPwZOBVFccaO9fHXAO90AFK1e8Av14AsyyCEAGPs5TmlFJqm8Qaz+kyS5NsloG3bt3AAkKYpGGMYx9EbDvDIYBzHAICyLJ+eGYYBAMA5BwBSJn+9BznnEEJ4x29iEgrkZi72hdx0zNiedJGzSX6iNQNZ47hq94M6KCDVsWsKVuJbuGma0HVdkOcGyeBj5qqq8jLEmsiAz8oqhAgCSQbM8xzA/Tqz1/YeReQelFKi73tora+ZVEphnmdorcmAQXpwDSQEHPAP5mDQTfLqE8xXzoDLsiCKIq/VZYxxjnEucV3XXi8yxkBK6Rx3On7ciToAqdo94AVtNVrNGIT0uwAAAABJRU5ErkJggg==) no canto superior esquerdo da plataforma.\n",
        "\n",
        "3 - Utilize PanViTa para gerar a distribuição geográfica dos seus isolados e fazer o download dos arquivos fasta dos seus genomas.\n",
        "\n",
        "4 - Qual o país de origem da maior parte dos seus isolados?"
      ],
      "metadata": {
        "id": "zfnDg05XKJLH"
      }
    },
    {
      "cell_type": "code",
      "source": [
        "#Sugestão: caso não consiga encontrar um organismo interessante, você pode utilziar o código abaixo.\n",
        "#!wget --no-check-certificate 'https://docs.google.com/uc?export=download&id=1NhZVpM0vsloxYD1KMJJg34lj8kgCpkGn' -O \"Lactobacillus.csv\""
      ],
      "metadata": {
        "id": "tXnMPuy9aIbR"
      },
      "execution_count": null,
      "outputs": []
    },
    {
      "cell_type": "code",
      "source": [
        "#3 - >>>Coloque o seu comando aqui<<<"
      ],
      "metadata": {
        "id": "TIGwLh20OJFH"
      },
      "execution_count": null,
      "outputs": []
    },
    {
      "cell_type": "markdown",
      "source": [
        "##Entendendo o arquivo FASTA\n",
        "\n",
        "Seja em nucleotídeos ou aminoácidos, um arquivo FASTA obrigatóriamente contem uma sequência biológica em sua forma mais bruta.\n",
        "\n",
        "Porém, para garantir um correto acesso às sequências no interior do arquivo e permitir o rápido acesso às informações biológicas, todo arquivo FASTA respeita uma padronização pré-estabelecida.\n",
        "\n",
        "É necessário que haja um cabeçalho bem definido, iniciado por um sinal \">\" e seguido por um identificador exclusivo para a sequência. Posteriormente, encontra-se um identificador opcional (porém recomendado). Esse ultimo identificador representa nominalmente qual é o conteúdo da sequência referida.\n",
        "\n",
        "A sequência biológica aparece então **obrigatoriamente** após a quebra de linha."
      ],
      "metadata": {
        "id": "gNsihMn5mluD"
      }
    },
    {
      "cell_type": "code",
      "source": [
        "#Tempo de execução aproximado = 1 seg\n",
        "!head fna/Mpneumoniae_E16.fna"
      ],
      "metadata": {
        "id": "Wr17L8s_3U2G"
      },
      "execution_count": null,
      "outputs": []
    },
    {
      "cell_type": "code",
      "source": [
        "#Tempo de execução aproximado = 1 seg\n",
        "!cat fna/Mpneumoniae_E16.fna"
      ],
      "metadata": {
        "id": "bFI7bsAwv8_2"
      },
      "execution_count": null,
      "outputs": []
    },
    {
      "cell_type": "code",
      "source": [
        "#Quantidade de entradas em um arquivo fasta.\n",
        "!grep -c \">\" fna/Mpneumoniae_E16.fna"
      ],
      "metadata": {
        "id": "yi9QWD-Aogb4"
      },
      "execution_count": null,
      "outputs": []
    },
    {
      "cell_type": "code",
      "source": [
        "!grep -c \">\" fna/*"
      ],
      "metadata": {
        "id": "M4hVwRYPQ17r"
      },
      "execution_count": null,
      "outputs": []
    },
    {
      "cell_type": "code",
      "source": [
        "!grep -v '>' fna/Mpneumoniae_E16.fna | grep -o '[GC]' | wc -l\n",
        "!grep -v '>' fna/Mpneumoniae_E16.fna | grep -o '[ACTG]' | wc -l"
      ],
      "metadata": {
        "id": "wu6hJJDkB4mm"
      },
      "execution_count": null,
      "outputs": []
    },
    {
      "cell_type": "code",
      "source": [
        "#Conteudo GC = (GC/ACTG)*100\n",
        "#(326646/816459)*100"
      ],
      "metadata": {
        "id": "I-2wF8FMGG5_"
      },
      "execution_count": null,
      "outputs": []
    },
    {
      "cell_type": "markdown",
      "source": [
        "###Hora de trabalhar - 15 minutos\n",
        "\n",
        "Informação: Para editar o texto no colab basta clicar duas vezes seguidas sobre a caixa de texto que deseja editar, ou clicar sobre a caixa de texto e selecionar o ícone ![image.png](data:image/png;base64,iVBORw0KGgoAAAANSUhEUgAAABQAAAAUCAYAAACNiR0NAAAA4ElEQVQ4jd3UMW6EMBCF4X+z6aaDhoLOHAKJA3AeN9QRHZUb7kDFAbgFHMA9BzAVRVKs1lI2zmZxtogylfU0+jQeWT6VZfnOE+vlmdg/B0WEtm2p6/pT/hoLGmNQSlFVFQDTNMVNKCKICOM4+qxpGrIsOz6hiGCMAUBr7TFrLeu6HgOvmFIKuFxZa41zjnmefd85z/O3oxhAkiSkacowDOz77vMfdxjCAKy19H3/pf8ueA/TWrNt2+NgDPYtGIsFwd9gQbAoimgsCN7WEQwCD9s5x7Is/tx13cMYwOnP/9gf0bhxKrTFmbcAAAAASUVORK5CYII=) no canto superior direito da caixa.\n",
        "\n",
        "**1 - Utilize comandos no Colab para responder as perguntas abaixo:**\n",
        "\n",
        "  a) Qual é o identificador exclusivo de cada genomas baixado?\n",
        "\n",
        "  1º\n",
        "\n",
        "  2º\n",
        "  \n",
        "  3º\n",
        "  \n",
        "  4º\n",
        "  \n",
        "  5º\n",
        "\n",
        "  b) Qual o tamanho dos genomas baixados? Esse tamanho é similar ao presente na tabela baixada diretamente do NCBI?\n",
        "\n",
        "  1º\n",
        "\n",
        "  2º\n",
        "  \n",
        "  3º\n",
        "  \n",
        "  4º\n",
        "  \n",
        "  5º\n",
        "\n",
        "  c) Qual o conteúdo GC% dos genomas baixados? Esse conteúdo GC% é similar ao presente na tabela baixada diretamente do NCBI?\n",
        "\n",
        "  1º\n",
        "\n",
        "  2º\n",
        "  \n",
        "  3º\n",
        "  \n",
        "  4º\n",
        "  \n",
        "  5º\n",
        "  \n",
        "  d) Quantos contigs cada arquivo baixado possui? (Tratando-se de um arquivo de genoma, um contig equivale a um cabeçalho).\n",
        "\n",
        "  1º\n",
        "\n",
        "  2º\n",
        "  \n",
        "  3º\n",
        "  \n",
        "  4º\n",
        "  \n",
        "  5º\n"
      ],
      "metadata": {
        "id": "RfZ7PX62Ma3f"
      }
    },
    {
      "cell_type": "code",
      "source": [
        "#Códigos da questão 1-a\n"
      ],
      "metadata": {
        "id": "lXJxXrQ4vyHH"
      },
      "execution_count": null,
      "outputs": []
    },
    {
      "cell_type": "code",
      "source": [
        "#Códigos da questão 1-b\n"
      ],
      "metadata": {
        "id": "lYHKVN_6vtxB"
      },
      "execution_count": null,
      "outputs": []
    },
    {
      "cell_type": "code",
      "source": [
        "#Códigos da questão 1-c\n"
      ],
      "metadata": {
        "id": "TycsesMgv1Al"
      },
      "execution_count": null,
      "outputs": []
    },
    {
      "cell_type": "code",
      "source": [
        "#Códigos da questão 1-d\n"
      ],
      "metadata": {
        "id": "7PqxmcC1v2H1"
      },
      "execution_count": null,
      "outputs": []
    },
    {
      "cell_type": "markdown",
      "source": [
        "##Anotando um genoma utilizando PROKKA\n",
        "\n",
        "Em um arquivo FASTA (fna), a informação da sequência biológica raramente é inteligivel para olhos humanos não treinados.\n",
        "\n",
        "Isso acontece pois o arquivo contem toda a informação disponibilizada por um genoma (ou proteoma), porém, essa informação ainda não foi descrita de forma à determinar informações de sentido biológica.\n",
        "\n",
        "Ao ato de dar um sentido e significado à uma sequência biológica é dado o nome de **anotação**.\n",
        "\n",
        "Ao anotar um genoma, espera-se determinar a estrutura de genes e outros compostos genômicos (**anotação estrutural**). Além disso, também espera-se obter informações quanto à função putativa de cada gene e fragmento não transcricional (**anotação funcional**).\n",
        "\n",
        "Existem alguns programas capazes de realizar os processos de anotação de genomas bacterianos. Um dos mais utilizados é o *pipeline* PROKKA."
      ],
      "metadata": {
        "id": "lqD9KyFY0B5E"
      }
    },
    {
      "cell_type": "code",
      "source": [
        "#Tempo de execução aproximado = 21 min\n",
        "!./panvita/panvita.py -a prokaryotes.csv\n",
        "!rm *.fna"
      ],
      "metadata": {
        "id": "YEHzQEScGKUw"
      },
      "execution_count": null,
      "outputs": []
    },
    {
      "cell_type": "code",
      "source": [
        "!cat M*/*.txt"
      ],
      "metadata": {
        "id": "55S420RjT0sY"
      },
      "execution_count": null,
      "outputs": []
    },
    {
      "cell_type": "markdown",
      "source": [
        "###Hora de trabalhar - 15 minutos\n",
        "\n",
        "Informação: Para editar o texto no colab basta clicar duas vezes seguidas sobre a caixa de texto que deseja editar, ou clicar sobre a caixa de texto e selecionar o ícone ![image.png](data:image/png;base64,iVBORw0KGgoAAAANSUhEUgAAABQAAAAUCAYAAACNiR0NAAAA4ElEQVQ4jd3UMW6EMBCF4X+z6aaDhoLOHAKJA3AeN9QRHZUb7kDFAbgFHMA9BzAVRVKs1lI2zmZxtogylfU0+jQeWT6VZfnOE+vlmdg/B0WEtm2p6/pT/hoLGmNQSlFVFQDTNMVNKCKICOM4+qxpGrIsOz6hiGCMAUBr7TFrLeu6HgOvmFIKuFxZa41zjnmefd85z/O3oxhAkiSkacowDOz77vMfdxjCAKy19H3/pf8ueA/TWrNt2+NgDPYtGIsFwd9gQbAoimgsCN7WEQwCD9s5x7Is/tx13cMYwOnP/9gf0bhxKrTFmbcAAAAASUVORK5CYII=) no canto superior direito da caixa.\n",
        "\n",
        "1 - Anote seus genomas usando PROKKA e ou PanViTa.\n",
        "\n",
        "2 - Quantos genes seus genomas possuem?\n",
        "\n",
        "  1º\n",
        "\n",
        "  2º\n",
        "  \n",
        "  3º\n",
        "  \n",
        "  4º\n",
        "  \n",
        "  5º\n",
        "\n",
        "3 - Quantas CDS seus genomas possuem?\n",
        "\n",
        "  1º\n",
        "\n",
        "  2º\n",
        "  \n",
        "  3º\n",
        "  \n",
        "  4º\n",
        "  \n",
        "  5º\n",
        "\n",
        "4 - Quantos rRNAs seus genomas possuem?\n",
        "\n",
        "  1º\n",
        "\n",
        "  2º\n",
        "  \n",
        "  3º\n",
        "  \n",
        "  4º\n",
        "  \n",
        "  5º\n"
      ],
      "metadata": {
        "id": "XcxCcTKLrFnL"
      }
    },
    {
      "cell_type": "markdown",
      "source": [
        "##Análise de resistência e virulência\n",
        "\n",
        "No ambiente, diversos microrganismos precisam se adaptar à condições adversas. Seja pela toxicidade à elementos naturais, seja pela ação de antimicrobianos, bactérias estão sob constante pressão.\n",
        "\n",
        "Hoje em dia, existem bancos de dados que contem a informação desses genes capazes de lidar com a pressão envolvendo substâncias exógenas.\n",
        "\n",
        "**CARD** - Comprehensive Antibiotic Resistance Database <https://card.mcmaster.ca>\n",
        "\n",
        "**BacMet** - Antibacterial Biocide and Metal Resistance Genes Database <http://bacmet.biomedicine.gu.se>\n",
        "\n",
        "Por outro lado, um mecanismo de virulência é qualquer mecanismo que possibilite que um organismo infecte o hospedeiro, cause uma doença e sobreviva à nível celular.\n",
        "\n",
        "**VFDB** - Virulence Factor Database <http://www.mgc.ac.cn/VFs/>"
      ],
      "metadata": {
        "id": "nYETb0_IHZU-"
      }
    },
    {
      "cell_type": "code",
      "source": [
        "#Tempo de execução aproximado = 1 min\n",
        "!./panvita/panvita.py -vfdb M*/*.gbk -d -keep -png\n",
        "!./panvita/panvita.py -bacmet -i 35 -c 35 M*/*.gbk -d -keep -png"
      ],
      "metadata": {
        "id": "KQZjmbufHc4_"
      },
      "execution_count": null,
      "outputs": []
    },
    {
      "cell_type": "code",
      "source": [
        "!./panvita/panvita.py -h"
      ],
      "metadata": {
        "id": "l_0gWmIjSEZR"
      },
      "execution_count": null,
      "outputs": []
    },
    {
      "cell_type": "code",
      "source": [
        "#Comando para fazer uma análise utilizando o CARD.\n"
      ],
      "metadata": {
        "id": "7J8YSDbcSL_L"
      },
      "execution_count": null,
      "outputs": []
    },
    {
      "cell_type": "markdown",
      "source": [
        "###Hora de trabalhar - 15 minutos\n",
        "\n",
        "Informação: Para editar o texto no colab basta clicar duas vezes seguidas sobre a caixa de texto que deseja editar, ou clicar sobre a caixa de texto e selecionar o ícone ![image.png](data:image/png;base64,iVBORw0KGgoAAAANSUhEUgAAABQAAAAUCAYAAACNiR0NAAAA4ElEQVQ4jd3UMW6EMBCF4X+z6aaDhoLOHAKJA3AeN9QRHZUb7kDFAbgFHMA9BzAVRVKs1lI2zmZxtogylfU0+jQeWT6VZfnOE+vlmdg/B0WEtm2p6/pT/hoLGmNQSlFVFQDTNMVNKCKICOM4+qxpGrIsOz6hiGCMAUBr7TFrLeu6HgOvmFIKuFxZa41zjnmefd85z/O3oxhAkiSkacowDOz77vMfdxjCAKy19H3/pf8ueA/TWrNt2+NgDPYtGIsFwd9gQbAoimgsCN7WEQwCD9s5x7Is/tx13cMYwOnP/9gf0bhxKrTFmbcAAAAASUVORK5CYII=) no canto superior direito da caixa.\n",
        "\n",
        "1 - Realize a análise de genes de resistência à metais pesados.\n",
        "\n",
        "2 - Realize a análise de genes de virulência.\n",
        "\n",
        "3 - Realize a análise de genes de resistência à antimicrobianos.\n",
        "\n",
        "4 - Qual o principal mecanismo de resistência à antimicrobianos da sua amostra?\n",
        "\n",
        "5 - Qual o principal mecanismo de virulência da sua amostra?\n",
        "\n",
        "6 - Qual o principal mecanismo de resistência à metais pesados da sua amostra?\n",
        "\n",
        "7 - Qual o principal metal pesado ao qual seus isolados tem resistência?\n",
        "\n",
        "8 - Quantos genes de resistência são compartilhados entre todas as linhagens (considere apenas a análise contra o CARD)."
      ],
      "metadata": {
        "id": "zRrSccAQuV3F"
      }
    },
    {
      "cell_type": "markdown",
      "source": [
        "##Avaliando Identidade Média de Nucleotídeos\n",
        "\n",
        "Diferentes organismos possuem diferentes caracteristicas intrinsecas. Isso está relacionado às diversas formas e conteúdos presentes em um genoma. São milhares de bases de se ordenam de formas incontáveis.\n",
        "\n",
        "De modo geral, essas diferenças genômicas entre linhagens relacionadas estão ligadas à genes linhagem específicos, inespecificidades da montagem, deleções, insersões, entre outros fatores.\n",
        "\n",
        "Uma análise capaz de quantificar a similaridade entre dois genomas, é a chamada Average of Nucleotide Identity (ANI), ou Identidade Média de Nucleotídeos.\n",
        "\n",
        "De forma geral, durante a análise por ANI os genomas (A e B) são inicialmente fragmentados *in silico*. Cada fragmento de A é então alinhado contra todos os possíveis fragmentos de B. Ao final, o identidade média de nucleotídeos entre A e B é a média dos valores de identidade dos alinhamentos entre os fragmentos feitos.\n",
        "\n",
        "Conceitualmente, um ANI superior à 95% indica que ambos os genomas pertencem à uma mesma espécie bacteriana."
      ],
      "metadata": {
        "id": "j3xyrAL10HB0"
      }
    },
    {
      "cell_type": "code",
      "source": [
        "#Tempo de execução aproximado = 1 seg\n",
        "!average_nucleotide_identity.py -h"
      ],
      "metadata": {
        "id": "p6Zp_IYxHgxF"
      },
      "execution_count": null,
      "outputs": []
    },
    {
      "cell_type": "code",
      "source": [
        "#Tempo de execução aproximado = 40 seg\n",
        "!average_nucleotide_identity.py -i fna -o pyANI -g -m ANIm"
      ],
      "metadata": {
        "id": "Mu8qFSV-MfBQ"
      },
      "execution_count": null,
      "outputs": []
    },
    {
      "cell_type": "markdown",
      "source": [
        "###Hora de trabalhar - 15 minutos\n",
        "\n",
        "Informação: Para editar o texto no colab basta clicar duas vezes seguidas sobre a caixa de texto que deseja editar, ou clicar sobre a caixa de texto e selecionar o ícone ![image.png](data:image/png;base64,iVBORw0KGgoAAAANSUhEUgAAABQAAAAUCAYAAACNiR0NAAAA4ElEQVQ4jd3UMW6EMBCF4X+z6aaDhoLOHAKJA3AeN9QRHZUb7kDFAbgFHMA9BzAVRVKs1lI2zmZxtogylfU0+jQeWT6VZfnOE+vlmdg/B0WEtm2p6/pT/hoLGmNQSlFVFQDTNMVNKCKICOM4+qxpGrIsOz6hiGCMAUBr7TFrLeu6HgOvmFIKuFxZa41zjnmefd85z/O3oxhAkiSkacowDOz77vMfdxjCAKy19H3/pf8ueA/TWrNt2+NgDPYtGIsFwd9gQbAoimgsCN7WEQwCD9s5x7Is/tx13cMYwOnP/9gf0bhxKrTFmbcAAAAASUVORK5CYII=) no canto superior direito da caixa.\n",
        "\n",
        "1 - Avalie o identidade média de nucleotídeos da sua amostra.\n",
        "\n",
        "2 - Todas as linhagens pertencem a mesma espécie?\n",
        "\n",
        "3 - Qual é o valor médio obtido?"
      ],
      "metadata": {
        "id": "mf0WxjILtj4S"
      }
    },
    {
      "cell_type": "markdown",
      "source": [
        "##Analisando ortologia gênica e filogenômica\n",
        "\n",
        "Por vezes uma análise de Identidade Média de Nucleotídeos é insuficiente para que um nível taxonomico seja confirmado. Em geral, são necessárias diferentes abordagem (com o mesmo resultado) para que um nível taxonomico seja confirmado. Em geral, uma metodologia que funciona bem biologicamente e que responde à uma pergunta similar é a filogenômica.\n",
        "\n",
        "Em uma análise filogenômica, todo o conteúdo genômico (ou proteômico) de um organismo é considerado para inferir ancestralidade e a história evolutiva de um conjunto. Bem como na filogenética, na filogenômica existem diferentes métodos e modelos, gerando diferentes resultados.\n",
        "\n",
        "Um dos métodos interessantes para uma análise filogenômica \"básica\" é o aplicado pela ferramenta OrthoFinder. A função inicial do *pipeline* proposto pelo programa é a predição de um *dataset* de proteinas ortólogas. Isso siginifica que o programa busca por conjuntos de proteínas que compartilham a mesma origem evolutiva. Todavia, um passo adicional é a predição de uma árvore filogenômica baseada em um método hibrido de filogenia."
      ],
      "metadata": {
        "id": "um7Lh3dg9OwF"
      }
    },
    {
      "cell_type": "code",
      "source": [
        "#Tempo de execução aproximado = 7 min 30 seg\n",
        "!orthofinder -h"
      ],
      "metadata": {
        "id": "dqrJoIUtwM-4"
      },
      "execution_count": null,
      "outputs": []
    },
    {
      "cell_type": "code",
      "source": [
        "#Tempo de execução aproximado = 7 min 30 seg\n",
        "!orthofinder -f faa -M msa -o orthofinder_Mycoplasmoides"
      ],
      "metadata": {
        "id": "LWSdHp_HbznB"
      },
      "execution_count": null,
      "outputs": []
    },
    {
      "cell_type": "markdown",
      "source": [
        "###Hora de trabalhar - 15 minutos\n",
        "\n",
        "Informação: Para editar o texto no colab basta clicar duas vezes seguidas sobre a caixa de texto que deseja editar, ou clicar sobre a caixa de texto e selecionar o ícone ![image.png](data:image/png;base64,iVBORw0KGgoAAAANSUhEUgAAABQAAAAUCAYAAACNiR0NAAAA4ElEQVQ4jd3UMW6EMBCF4X+z6aaDhoLOHAKJA3AeN9QRHZUb7kDFAbgFHMA9BzAVRVKs1lI2zmZxtogylfU0+jQeWT6VZfnOE+vlmdg/B0WEtm2p6/pT/hoLGmNQSlFVFQDTNMVNKCKICOM4+qxpGrIsOz6hiGCMAUBr7TFrLeu6HgOvmFIKuFxZa41zjnmefd85z/O3oxhAkiSkacowDOz77vMfdxjCAKy19H3/pf8ueA/TWrNt2+NgDPYtGIsFwd9gQbAoimgsCN7WEQwCD9s5x7Is/tx13cMYwOnP/9gf0bhxKrTFmbcAAAAASUVORK5CYII=) no canto superior direito da caixa.\n",
        "\n",
        "1 - Faça a análise filogenômica dos seus isolados.\n",
        "\n",
        "2 - Gere a árvore na ferramenta iTOL <https://itol.embl.de/upload.cgi>.\n",
        "\n",
        "3 - Altere a cor dos clados da árvore para manter as linhagens mais próximas com a mesma cor.\n",
        "\n",
        "4 - Qual a conclusão da análise?"
      ],
      "metadata": {
        "id": "7TZQetZTt_N6"
      }
    },
    {
      "cell_type": "markdown",
      "source": [
        "##Analisando sintenia\n",
        "\n",
        "Sintenia, de forma literal, é a ordem com a qual os bloco gênicos se apresentam no genoma. Organismos de uma mesma espécie tendem a manter alto grau sintenico, ou seja, seus genes apresentam-se na mesma ordem.\n",
        "\n",
        "Todavia, eventos aleatórios e evolutivos podem alterar a ordem dos blocos gênicos (translocação, inversão, duplicação, deleção). A forma como a montagem dos contigs é feita também pode alterar a sintenia gênica (montagem por referência), sendo nesse caso considerado um artefato de montagem."
      ],
      "metadata": {
        "id": "J8TC93ZDLxak"
      }
    },
    {
      "cell_type": "code",
      "source": [
        "!SatsumaSynteny2 -h"
      ],
      "metadata": {
        "id": "aMMgOW16BdMH"
      },
      "execution_count": null,
      "outputs": []
    },
    {
      "cell_type": "code",
      "source": [
        "%env SATSUMA2_PATH=usr/local/bin\n",
        "!SatsumaSynteny2 -q ./fna/Mpneumoniae_E16.fna -t ./fna/Mpneumoniae_E57.fna -o Satsuma_Mp_E16_X_E57"
      ],
      "metadata": {
        "id": "QzIHFO8GG-a5"
      },
      "execution_count": null,
      "outputs": []
    },
    {
      "cell_type": "code",
      "source": [
        "#!wget https://repo.anaconda.com/miniconda/Miniconda3-py37_4.12.0-Linux-x86_64.sh\n",
        "#!chmod +x Miniconda3-py37_4.12.0-Linux-x86_64.sh\n",
        "#!bash ./Miniconda3-py37_4.12.0-Linux-x86_64.sh -b -f -p /usr/local/"
      ],
      "metadata": {
        "id": "crAAwfztVFGQ"
      },
      "execution_count": null,
      "outputs": []
    },
    {
      "cell_type": "markdown",
      "source": [
        "#Exercício"
      ],
      "metadata": {
        "id": "LdWZeXmkrnTf"
      }
    },
    {
      "cell_type": "code",
      "source": [
        "!wget --no-check-certificate \"https://docs.google.com/uc?export=download&id=1O26ddBtkqyHvVyuBo9Phgrlzg01dddWX\" -O \"Ralstonia.csv\""
      ],
      "metadata": {
        "id": "QDCp2cMirqKb"
      },
      "execution_count": null,
      "outputs": []
    },
    {
      "cell_type": "markdown",
      "source": [
        "Realize as análises necessárias para caracterizar os perfis de resistência, virulência, taxogenômicos e filogenômicos das linhagens disponíveis no arquivo acima.\n",
        "\n",
        "Qual a sua conclusão?"
      ],
      "metadata": {
        "id": "th66n8Ixs1Fj"
      }
    }
  ]
}